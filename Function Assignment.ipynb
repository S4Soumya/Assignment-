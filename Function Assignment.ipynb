{
 "cells": [
  {
   "cell_type": "markdown",
   "id": "337dc594-0a99-4954-910a-72c313d2be6a",
   "metadata": {},
   "source": [
    "### 1. Difference between a Function and a Method in Python\n",
    "Function: A block of reusable code that performs a specific task, independent of any object. Defined using the def keyword.<br>\n",
    "Method: A function that is associated with an object and is called on an instance of a class."
   ]
  },
  {
   "cell_type": "code",
   "execution_count": 5,
   "id": "5eef44b9-d17e-47da-8193-7137f2d6b992",
   "metadata": {},
   "outputs": [
    {
     "name": "stdout",
     "output_type": "stream",
     "text": [
      "Hello, Soumya!\n"
     ]
    }
   ],
   "source": [
    "#function example\n",
    "def greeting(name):\n",
    "    return f\"Hello, {name}!\"\n",
    "\n",
    "print(greeting(\"Soumya\"))\n"
   ]
  },
  {
   "cell_type": "code",
   "execution_count": 6,
   "id": "bdc49e69-6329-4913-ba68-43606522b73d",
   "metadata": {},
   "outputs": [
    {
     "name": "stdout",
     "output_type": "stream",
     "text": [
      "Hello, Soumya!\n"
     ]
    }
   ],
   "source": [
    "# Class with a method\n",
    "class Person:\n",
    "    def __init__(self, name):\n",
    "        self.name = name\n",
    "    \n",
    "    # Method\n",
    "    def greet(self):\n",
    "        return f\"Hello, {self.name}!\"\n",
    "\n",
    "person = Person(\"Soumya\")\n",
    "print(person.greet())\n"
   ]
  },
  {
   "cell_type": "markdown",
   "id": "12e30609-fbac-4b3b-b96a-27a6dab24c3d",
   "metadata": {},
   "source": [
    "### 2. Function Arguments and Parameters in Python\n",
    "Parameters: Variables defined in the function signature that accept values when the function is called.<br>\n",
    "Arguments: The actual values passed to the function when it is invoked.\n"
   ]
  },
  {
   "cell_type": "code",
   "execution_count": 7,
   "id": "0fd17d50-d87f-4d2e-bc26-eb9952b78151",
   "metadata": {},
   "outputs": [
    {
     "data": {
      "text/plain": [
       "15"
      ]
     },
     "execution_count": 7,
     "metadata": {},
     "output_type": "execute_result"
    }
   ],
   "source": [
    "def example_function(para1, para2):  # parameters\n",
    "    return para1 + para2\n",
    "\n",
    "example_function(5, 10) # arguments\n"
   ]
  },
  {
   "cell_type": "markdown",
   "id": "a1bb02c5-7bd2-488a-ad79-bcc9b55dd5c4",
   "metadata": {},
   "source": [
    "### 3. Different Ways to Define and Call a Function in Python\n",
    "Positional Arguments: Arguments passed in order.<br>\n",
    "Keyword Arguments: Arguments passed by explicitly naming the parameter.<br>\n",
    "Default Parameters: Parameters that have a default value if no argument is provided.<br>\n",
    "Arbitrary Arguments: Allows passing a variable number of arguments using *args or **kwargs.<br>\n"
   ]
  },
  {
   "cell_type": "code",
   "execution_count": 8,
   "id": "d8419b49-e1ed-44f1-acc9-efd49aa787da",
   "metadata": {},
   "outputs": [
    {
     "data": {
      "text/plain": [
       "10"
      ]
     },
     "execution_count": 8,
     "metadata": {},
     "output_type": "execute_result"
    }
   ],
   "source": [
    "def func(a, b=5):  # default parameter\n",
    "    return a + b\n",
    "\n",
    "func(3)  # positional\n",
    "func(a=3, b=7)  # keyword\n"
   ]
  },
  {
   "cell_type": "markdown",
   "id": "05785a94-d1d1-4c27-8251-cbddebceca20",
   "metadata": {},
   "source": [
    "### 4. Purpose of the return Statement in a Python Function\n",
    "The return statement is used to exit a function and send a value back to the caller. If no return is specified, the function returns None."
   ]
  },
  {
   "cell_type": "code",
   "execution_count": 9,
   "id": "9906a762-8588-4a50-b954-822fec491020",
   "metadata": {},
   "outputs": [],
   "source": [
    "#Example\n",
    "def add(a, b):\n",
    "    return a + b\n"
   ]
  },
  {
   "cell_type": "markdown",
   "id": "94c24151-ff5e-43f9-805a-b3a92efa68f4",
   "metadata": {},
   "source": [
    "### 5. Difference Between Iterators and Iterables\n",
    "Iterable: An object that can return an iterator, e.g., lists, tuples, etc.<br>\n",
    "Iterator: An object representing a stream of data; it has a __next__() method that fetches the next element.<br>"
   ]
  },
  {
   "cell_type": "code",
   "execution_count": 10,
   "id": "a8fb6fe8-aea6-4353-a1c4-92a8bf4d4221",
   "metadata": {},
   "outputs": [
    {
     "data": {
      "text/plain": [
       "1"
      ]
     },
     "execution_count": 10,
     "metadata": {},
     "output_type": "execute_result"
    }
   ],
   "source": [
    "iterable = [1, 2, 3]\n",
    "iterator = iter(iterable)  # iterator from iterable\n",
    "next(iterator)  # 1\n"
   ]
  },
  {
   "cell_type": "markdown",
   "id": "a7574380-9b84-42c4-a3fe-7709d8778f56",
   "metadata": {},
   "source": [
    "### 6. Generators in Python and How They Are Defined\n",
    "Generators are functions that yield values one at a time, pausing execution between yields.<br> Defined using the yield keyword.\n"
   ]
  },
  {
   "cell_type": "code",
   "execution_count": 12,
   "id": "f3b98e9f-9ed0-4677-b82b-7f46a6b0741c",
   "metadata": {},
   "outputs": [
    {
     "data": {
      "text/plain": [
       "1"
      ]
     },
     "execution_count": 12,
     "metadata": {},
     "output_type": "execute_result"
    }
   ],
   "source": [
    "def my_generator():\n",
    "    yield 1\n",
    "    yield 2\n",
    "\n",
    "gen = my_generator()\n",
    "next(gen)  # 1\n"
   ]
  },
  {
   "cell_type": "markdown",
   "id": "69c43708-a936-4259-a4b0-ecf9b03fd8c7",
   "metadata": {},
   "source": [
    "### 7. Advantages of Using Generators Over Regular Functions\n",
    "Memory Efficient: Generators produce items one at a time, which saves memory when working with large datasets.<br>\n",
    "Lazy Evaluation: Values are computed as needed, which improves performance."
   ]
  },
  {
   "cell_type": "code",
   "execution_count": 14,
   "id": "23e69c78-ac5f-4c39-b342-3f44b36b1623",
   "metadata": {},
   "outputs": [
    {
     "name": "stdout",
     "output_type": "stream",
     "text": [
      "1000000\n"
     ]
    }
   ],
   "source": [
    "# Regular function returning a list of squares\n",
    "def squares_list(n):\n",
    "    return [i**2 for i in range(n)]\n",
    "\n",
    "# This will create a list with all squares in memory\n",
    "squares = squares_list(1000000)\n",
    "print(len(squares)) \n"
   ]
  },
  {
   "cell_type": "code",
   "execution_count": 23,
   "id": "e7eccd18-f56a-4006-8668-567004242e22",
   "metadata": {},
   "outputs": [
    {
     "name": "stdout",
     "output_type": "stream",
     "text": [
      "0\n",
      "1\n",
      "4\n"
     ]
    }
   ],
   "source": [
    "# Generator function yielding squares one by one\n",
    "def squares_generator(n):\n",
    "    for i in range(n):\n",
    "        yield i**2\n",
    "\n",
    "# This doesn't create a full list in memory, just one value at a time\n",
    "squares_gen = squares_generator(1000000)\n",
    "print(next(squares_gen)) \n",
    "print(next(squares_gen)) \n",
    "print(next(squares_gen))  \n"
   ]
  },
  {
   "cell_type": "markdown",
   "id": "d6d211cc-1f55-4a0f-a872-acbc9d5171fd",
   "metadata": {},
   "source": [
    "### 8. Lambda Function in Python and Typical Use Cases\n",
    "A lambda function is a small anonymous function defined using the lambda keyword. It can take any number of arguments but only one expression."
   ]
  },
  {
   "cell_type": "code",
   "execution_count": 17,
   "id": "7470eb51-765b-448c-900f-e97f075fb437",
   "metadata": {},
   "outputs": [
    {
     "data": {
      "text/plain": [
       "5"
      ]
     },
     "execution_count": 17,
     "metadata": {},
     "output_type": "execute_result"
    }
   ],
   "source": [
    "add = lambda a, b: a + b\n",
    "add(2, 3)  # 5\n"
   ]
  },
  {
   "cell_type": "markdown",
   "id": "16502a0f-3bb9-4016-bf2b-c1066ef2080b",
   "metadata": {},
   "source": [
    "### 9. Purpose and Usage of the map() Function in Python\n",
    "The map() function applies a given function to all the items in an iterable (like a list) and returns a map object (which can be converted to a list).\n"
   ]
  },
  {
   "cell_type": "code",
   "execution_count": 19,
   "id": "697e9531-5cd3-470b-a90e-280652c5cf17",
   "metadata": {},
   "outputs": [],
   "source": [
    "numbers = [1, 2, 3]\n",
    "squared = list(map(lambda x: x**2, numbers))  # [1, 4, 9]\n"
   ]
  },
  {
   "cell_type": "markdown",
   "id": "ac382bf9-db2d-4dac-8d89-60f30b8ea90c",
   "metadata": {},
   "source": [
    "### 10. Difference Between map(), reduce(), and filter() in Python\n",
    "map(): Applies a function to all elements in an iterable.<br>\n",
    "filter(): Filters elements in an iterable based on a condition.<br>\n",
    "reduce(): Reduces an iterable to a single value by cumulatively applying a function (requires functools module).<br>"
   ]
  },
  {
   "cell_type": "code",
   "execution_count": 20,
   "id": "30ea1566-cfcb-428f-9c1f-e4de27ee23f7",
   "metadata": {},
   "outputs": [
    {
     "name": "stdout",
     "output_type": "stream",
     "text": [
      "[32.0, 50.0, 68.0, 86.0]\n"
     ]
    }
   ],
   "source": [
    "#Map example\n",
    "# Function to convert Celsius to Fahrenheit\n",
    "def celsius_to_fahrenheit(celsius):\n",
    "    return (celsius * 9/5) + 32\n",
    "\n",
    "# List of temperatures in Celsius\n",
    "celsius_list = [0, 10, 20, 30]\n",
    "\n",
    "# Using map() to convert to Fahrenheit\n",
    "fahrenheit_list = list(map(celsius_to_fahrenheit, celsius_list))\n",
    "\n",
    "print(fahrenheit_list)\n"
   ]
  },
  {
   "cell_type": "code",
   "execution_count": 21,
   "id": "7c47b720-7629-4c41-8ebb-6464430242a6",
   "metadata": {},
   "outputs": [
    {
     "name": "stdout",
     "output_type": "stream",
     "text": [
      "[2, 4, 6]\n"
     ]
    }
   ],
   "source": [
    "#filter example \n",
    "# Function to check if a number is even\n",
    "def is_even(num):\n",
    "    return num % 2 == 0\n",
    "\n",
    "# List of numbers\n",
    "numbers = [1, 2, 3, 4, 5, 6]\n",
    "\n",
    "# Using filter() to get only even numbers\n",
    "even_numbers = list(filter(is_even, numbers))\n",
    "\n",
    "print(even_numbers)\n"
   ]
  },
  {
   "cell_type": "code",
   "execution_count": 22,
   "id": "b481e1ec-c6d1-4beb-8778-14cc5109b135",
   "metadata": {},
   "outputs": [
    {
     "name": "stdout",
     "output_type": "stream",
     "text": [
      "24\n"
     ]
    }
   ],
   "source": [
    "#reduce example\n",
    "from functools import reduce\n",
    "\n",
    "# Function to multiply two numbers\n",
    "def multiply(x, y):\n",
    "    return x * y\n",
    "\n",
    "# List of numbers\n",
    "numbers = [1, 2, 3, 4]\n",
    "\n",
    "# Using reduce() to get the product of the numbers\n",
    "product = reduce(multiply, numbers)\n",
    "\n",
    "print(product)\n"
   ]
  },
  {
   "cell_type": "markdown",
   "id": "56c1c760-cd48-44a8-a1cb-a4d44421883a",
   "metadata": {},
   "source": [
    "# Practical answer"
   ]
  },
  {
   "cell_type": "markdown",
   "id": "a3d93e38-455b-4dae-85e2-08ad6c495229",
   "metadata": {},
   "source": [
    "### 1.Sum of all even numbers in a list:"
   ]
  },
  {
   "cell_type": "code",
   "execution_count": 25,
   "id": "322743d7-25d0-4806-9b49-7a2cabeaaf4b",
   "metadata": {},
   "outputs": [],
   "source": [
    "def sum_even_numbers(numbers):\n",
    "    return sum(num for num in numbers if num % 2 == 0)\n"
   ]
  },
  {
   "cell_type": "markdown",
   "id": "9e567ad0-6268-4dc6-aa69-ff9b0061166d",
   "metadata": {},
   "source": [
    "# 2.Reverse a string:"
   ]
  },
  {
   "cell_type": "code",
   "execution_count": 26,
   "id": "862f16f2-04eb-40e6-9022-fae0423bec3b",
   "metadata": {},
   "outputs": [],
   "source": [
    "def reverse_string(s):\n",
    "    return s[::-1]\n"
   ]
  },
  {
   "cell_type": "markdown",
   "id": "a644b946-2404-44e1-9630-ae3cc0e4e1ef",
   "metadata": {},
   "source": [
    "# 3.Square of each number in a list:\n"
   ]
  },
  {
   "cell_type": "code",
   "execution_count": 27,
   "id": "b323f4d3-e040-4a34-af7a-cf093e318ff6",
   "metadata": {},
   "outputs": [],
   "source": [
    "def square_numbers(numbers):\n",
    "    return [num ** 2 for num in numbers]\n"
   ]
  },
  {
   "cell_type": "markdown",
   "id": "8000254f-91c9-49ce-9537-6ead5f2e1eec",
   "metadata": {},
   "source": [
    "# 4.Check if a number is prime between 1 to 200:"
   ]
  },
  {
   "cell_type": "code",
   "execution_count": 28,
   "id": "b9fb0758-ad44-46cd-bb06-5c44c5b9148b",
   "metadata": {},
   "outputs": [],
   "source": [
    "def is_prime(num):\n",
    "    if num < 2:\n",
    "        return False\n",
    "    for i in range(2, int(num ** 0.5) + 1):\n",
    "        if num % i == 0:\n",
    "            return False\n",
    "    return True\n",
    "\n",
    "primes = [num for num in range(1, 201) if is_prime(num)]\n"
   ]
  },
  {
   "cell_type": "markdown",
   "id": "75ea6ab0-134e-43ea-a9f3-abc3ee6797cd",
   "metadata": {},
   "source": [
    "# 5.Iterator class for Fibonacci sequence:"
   ]
  },
  {
   "cell_type": "code",
   "execution_count": 29,
   "id": "e00a9be2-93c6-4c34-9d27-2db63b855514",
   "metadata": {},
   "outputs": [
    {
     "name": "stdout",
     "output_type": "stream",
     "text": [
      "1\n",
      "1\n",
      "2\n",
      "3\n",
      "5\n",
      "8\n",
      "13\n",
      "21\n",
      "34\n",
      "55\n"
     ]
    }
   ],
   "source": [
    "class Fibonacci:\n",
    "    def __init__(self, terms):\n",
    "        self.terms = terms\n",
    "        self.a, self.b = 0, 1\n",
    "        self.count = 0\n",
    "\n",
    "    def __iter__(self):\n",
    "        return self\n",
    "\n",
    "    def __next__(self):\n",
    "        if self.count >= self.terms:\n",
    "            raise StopIteration\n",
    "        self.a, self.b = self.b, self.a + self.b\n",
    "        self.count += 1\n",
    "        return self.a\n",
    "\n",
    "# Example usage\n",
    "fib = Fibonacci(10)\n",
    "for num in fib:\n",
    "    print(num)\n"
   ]
  },
  {
   "cell_type": "markdown",
   "id": "551520b8-5b6c-498f-a47d-6f5fc641f83a",
   "metadata": {},
   "source": [
    "# 6.Generator for powers of 2:"
   ]
  },
  {
   "cell_type": "code",
   "execution_count": 30,
   "id": "96bf546b-6659-4f5d-a245-989d34fe16a6",
   "metadata": {},
   "outputs": [],
   "source": [
    "def powers_of_two(exponent):\n",
    "    for i in range(exponent + 1):\n",
    "        yield 2 ** i\n"
   ]
  },
  {
   "cell_type": "markdown",
   "id": "18966655-b964-44b2-b62f-30ab7404f4d4",
   "metadata": {},
   "source": [
    "# 7.Generator function to read a file line by line:\n"
   ]
  },
  {
   "cell_type": "code",
   "execution_count": 31,
   "id": "ab0deeb9-b10d-47b2-aec3-a590ca9e4d43",
   "metadata": {},
   "outputs": [],
   "source": [
    "def file_reader(file_path):\n",
    "    with open(file_path, 'r') as file:\n",
    "        for line in file:\n",
    "            yield line.strip()\n"
   ]
  },
  {
   "cell_type": "markdown",
   "id": "ae6625d8-e42d-43ce-9e64-e80ef9f34e00",
   "metadata": {},
   "source": [
    "# 8.Lambda function to sort tuples based on second element:"
   ]
  },
  {
   "cell_type": "code",
   "execution_count": 32,
   "id": "648e2020-2a6e-4a77-83ca-7ddc44727761",
   "metadata": {},
   "outputs": [],
   "source": [
    "tuples_list = [(1, 3), (2, 2), (3, 1)]\n",
    "sorted_list = sorted(tuples_list, key=lambda x: x[1])\n"
   ]
  },
  {
   "cell_type": "markdown",
   "id": "917ab710-d052-4acb-a6d4-aee2583433ca",
   "metadata": {},
   "source": [
    "# 9.Map function to convert Celsius to Fahrenheit:"
   ]
  },
  {
   "cell_type": "code",
   "execution_count": 34,
   "id": "3726d2d6-2c24-4387-b393-54fb142108f9",
   "metadata": {},
   "outputs": [
    {
     "name": "stdout",
     "output_type": "stream",
     "text": [
      "[32.0, 50.0, 68.0, 86.0]\n"
     ]
    }
   ],
   "source": [
    "# Function to convert Celsius to Fahrenheit\n",
    "def celsius_to_fahrenheit(celsius):\n",
    "    return (celsius * 9/5) + 32\n",
    "\n",
    "# List of temperatures in Celsius\n",
    "celsius_list = [0, 10, 20, 30]\n",
    "\n",
    "# Using map() to convert to Fahrenheit\n",
    "fahrenheit_list = list(map(celsius_to_fahrenheit, celsius_list))\n",
    "\n",
    "print(fahrenheit_list)\n",
    "\n"
   ]
  },
  {
   "cell_type": "markdown",
   "id": "8959472f-38a5-40c9-b187-5c3876f89502",
   "metadata": {},
   "source": [
    "# 10.Filter vowels from a string:"
   ]
  },
  {
   "cell_type": "code",
   "execution_count": 35,
   "id": "b4f97c54-5cb5-4133-b601-57eeae4d4100",
   "metadata": {},
   "outputs": [
    {
     "name": "stdout",
     "output_type": "stream",
     "text": [
      "Hll, Wrld!\n"
     ]
    }
   ],
   "source": [
    "# Function to check if a character is not a vowel\n",
    "def is_not_vowel(char):\n",
    "    return char.lower() not in 'aeiou'\n",
    "\n",
    "# Given string\n",
    "input_string = \"Hello, World!\"\n",
    "\n",
    "# Using filter() to remove vowels\n",
    "filtered_string = ''.join(filter(is_not_vowel, input_string))\n",
    "\n",
    "print(filtered_string)\n"
   ]
  },
  {
   "cell_type": "markdown",
   "id": "836afccd-7edb-4f30-9af7-1bf7e764facc",
   "metadata": {},
   "source": [
    "# 11.Accounting routine for book shop:\n",
    " "
   ]
  },
  {
   "cell_type": "code",
   "execution_count": 40,
   "id": "ac7bd2cd-277c-4796-949b-33971454392a",
   "metadata": {},
   "outputs": [
    {
     "name": "stdout",
     "output_type": "stream",
     "text": [
      "[(34587, 163.8), (98762, 284.0), (77226, 108.85000000000001), (88112, 84.97)]\n"
     ]
    }
   ],
   "source": [
    "# List of orders: [order_number, quantity, price_per_item]\n",
    "orders = [[34587, 4, 40.95], [98762, 5, 56.80], [77226, 3, 32.95], [88112, 3, 24.99]]\n",
    "\n",
    "# Using map() with a lambda function\n",
    "result = list(map(lambda x: (x[0], x[1] * x[2] + (10 if x[1] * x[2] < 100 else 0)), orders))\n",
    "\n",
    "# Print the result\n",
    "print(result)\n"
   ]
  },
  {
   "cell_type": "markdown",
   "id": "fcdde8db-7c39-43a1-ac48-7c9d827dc090",
   "metadata": {},
   "source": [
    "# program using lambda and map:"
   ]
  },
  {
   "cell_type": "code",
   "execution_count": 37,
   "id": "55f6d289-a84c-4aad-a3a6-2eea6f9c69fd",
   "metadata": {},
   "outputs": [
    {
     "name": "stdout",
     "output_type": "stream",
     "text": [
      "[32.0, 59.0, 77.0, 86.0, 98.6]\n"
     ]
    }
   ],
   "source": [
    "# List of temperatures in Celsius\n",
    "celsius_list = [0, 15, 25, 30, 37]\n",
    "\n",
    "# Using map() with a lambda function to convert Celsius to Fahrenheit\n",
    "fahrenheit_list = list(map(lambda c: (c * 9/5) + 32, celsius_list))\n",
    "\n",
    "# Print the converted temperatures\n",
    "print(fahrenheit_list)\n"
   ]
  },
  {
   "cell_type": "code",
   "execution_count": null,
   "id": "abc0d1ac-304c-4da5-ab45-dafedb86cb9b",
   "metadata": {},
   "outputs": [],
   "source": []
  }
 ],
 "metadata": {
  "kernelspec": {
   "display_name": "Python 3 (ipykernel)",
   "language": "python",
   "name": "python3"
  },
  "language_info": {
   "codemirror_mode": {
    "name": "ipython",
    "version": 3
   },
   "file_extension": ".py",
   "mimetype": "text/x-python",
   "name": "python",
   "nbconvert_exporter": "python",
   "pygments_lexer": "ipython3",
   "version": "3.10.6"
  }
 },
 "nbformat": 4,
 "nbformat_minor": 5
}
