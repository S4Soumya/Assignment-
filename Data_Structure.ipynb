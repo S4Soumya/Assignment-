{
 "cells": [
  {
   "cell_type": "markdown",
   "id": "db0546af-7544-4578-b9e4-d3d3628db358",
   "metadata": {},
   "source": [
    "### 1.Discuss string slicing and provide examples.\n",
    "String slicing in Python allows you to extract a portion of a string by specifying a range of indices. The syntax is: string[start:stop:step]\n"
   ]
  },
  {
   "cell_type": "code",
   "execution_count": 2,
   "id": "6197dcb0-bfe2-4220-b6db-29cdd8b7f843",
   "metadata": {},
   "outputs": [
    {
     "name": "stdout",
     "output_type": "stream",
     "text": [
      "Hello\n",
      "Hello\n",
      "World!\n",
      "World\n",
      "Hlo ol!\n"
     ]
    }
   ],
   "source": [
    "s = \"Hello, World!\"\n",
    "#Example of \n",
    "#basic slicing\n",
    "print(s[0:5])\n",
    "#Omitting start\n",
    "print(s[:5])\n",
    "#Omitting stop\n",
    "print(s[7:])  \n",
    "#Using negative indices:\n",
    "print(s[-6:-1])\n",
    "#With a step:\n",
    "print(s[::2]) "
   ]
  },
  {
   "cell_type": "markdown",
   "id": "ac666fbe-ac1a-46a1-a9fa-93d3b85e9404",
   "metadata": {},
   "source": [
    "### 2.Explain the key features of lists in Python.\n",
    "#### Key features of lists in Python:\n",
    "\n",
    "Ordered: Lists maintain the order of elements as they are inserted.\n",
    "\n",
    "Mutable: Lists can be modified as the elements can be added, removed, or changed.\n",
    "\n",
    "Heterogeneous: Lists can contain elements of different data types.\n",
    "\n",
    "Indexing: Elements are accessed using zero-based indexing (list[0]).\n",
    "\n",
    "Slicing: Portions of lists can be accessed using slicing (list[start:stop:step]).\n",
    "\n",
    "Methods: Lists provide various built-in methods like append(), remove()."
   ]
  },
  {
   "cell_type": "markdown",
   "id": "075eb7e9-88be-4f45-9f1e-3a40d9361d37",
   "metadata": {},
   "source": [
    "### 3.Describe how to access, modify, and delete elements in a list with examples.\n",
    "#### 1. Accessing elements in a list:\n",
    "You can access list elements using their index\n",
    "#### 2. Modifying elements in a list:\n",
    "You can modify elements by assigning new values to specific indices.\n",
    "#### 3. Deleting elements in a list:\n",
    "You can delete elements using del, remove()"
   ]
  },
  {
   "cell_type": "code",
   "execution_count": 4,
   "id": "f3cdd1e7-7d95-42b9-bf7a-4f79c23ad82c",
   "metadata": {},
   "outputs": [
    {
     "name": "stdout",
     "output_type": "stream",
     "text": [
      "10\n",
      "50\n"
     ]
    }
   ],
   "source": [
    "# accessing the element\n",
    "my_list = [10, 20, 30, 40, 50]\n",
    "print(my_list[0]) \n",
    "print(my_list[-1])"
   ]
  },
  {
   "cell_type": "code",
   "execution_count": 5,
   "id": "37059079-432a-4854-9f10-043668b58097",
   "metadata": {},
   "outputs": [
    {
     "name": "stdout",
     "output_type": "stream",
     "text": [
      "[10, 20, 35, 40, 50]\n"
     ]
    }
   ],
   "source": [
    "# modifying the element\n",
    "my_list[2] = 35\n",
    "print(my_list)"
   ]
  },
  {
   "cell_type": "code",
   "execution_count": 7,
   "id": "e2d5df0f-9204-4c2c-85d8-d2ef3b4c44c5",
   "metadata": {},
   "outputs": [
    {
     "name": "stdout",
     "output_type": "stream",
     "text": [
      "[10, 40, 50]\n"
     ]
    }
   ],
   "source": [
    "# deleting elements using del\n",
    "del my_list[1]\n",
    "print(my_list) "
   ]
  },
  {
   "cell_type": "code",
   "execution_count": 8,
   "id": "a1b4ae6c-7a99-4581-af20-ded19504aefd",
   "metadata": {},
   "outputs": [
    {
     "name": "stdout",
     "output_type": "stream",
     "text": [
      "[10, 50]\n"
     ]
    }
   ],
   "source": [
    "# deleteing elements using remove()\n",
    "my_list.remove(40)\n",
    "print(my_list)"
   ]
  },
  {
   "cell_type": "markdown",
   "id": "f1d977f5-49d2-453e-a204-ea7c241c0960",
   "metadata": {},
   "source": [
    "### 4.Compare and contrast tuples and lists with examples.\n",
    "#### Tuples\n",
    "Tuples are immutable in nature. It is defined with parentheses(). As of performance it is faster due to its being immutable. Tuples are ideal for fixed collection.\n",
    "#### Lists\n",
    "Lists are mutable in nature. It is defined with square brackets []. As of performance it is slower due to its being mutable. Lists are ideal for collections that may change."
   ]
  },
  {
   "cell_type": "code",
   "execution_count": 9,
   "id": "46fbea7b-a140-43fe-8940-2def21a5f088",
   "metadata": {},
   "outputs": [
    {
     "name": "stdout",
     "output_type": "stream",
     "text": [
      "(1, 2, 3)\n"
     ]
    }
   ],
   "source": [
    "#Creating Tuple\n",
    "my_tuple = (1, 2, 3)\n",
    "print(my_tuple)"
   ]
  },
  {
   "cell_type": "code",
   "execution_count": 10,
   "id": "417c3403-3763-4bf2-804f-573fb1a56130",
   "metadata": {},
   "outputs": [
    {
     "ename": "TypeError",
     "evalue": "'tuple' object does not support item assignment",
     "output_type": "error",
     "traceback": [
      "\u001b[1;31m---------------------------------------------------------------------------\u001b[0m",
      "\u001b[1;31mTypeError\u001b[0m                                 Traceback (most recent call last)",
      "Cell \u001b[1;32mIn[10], line 2\u001b[0m\n\u001b[0;32m      1\u001b[0m \u001b[38;5;66;03m#When tried to modify it gives error\u001b[39;00m\n\u001b[1;32m----> 2\u001b[0m \u001b[43mmy_tuple\u001b[49m\u001b[43m[\u001b[49m\u001b[38;5;241;43m1\u001b[39;49m\u001b[43m]\u001b[49m \u001b[38;5;241m=\u001b[39m \u001b[38;5;241m5\u001b[39m \n",
      "\u001b[1;31mTypeError\u001b[0m: 'tuple' object does not support item assignment"
     ]
    }
   ],
   "source": [
    "#When tried to modify it gives error\n",
    "my_tuple[1] = 5 \n"
   ]
  },
  {
   "cell_type": "code",
   "execution_count": 11,
   "id": "b06416c3-edf8-415c-9e63-567407a314e3",
   "metadata": {},
   "outputs": [
    {
     "name": "stdout",
     "output_type": "stream",
     "text": [
      "[1, 2, 3]\n"
     ]
    }
   ],
   "source": [
    "#Creating List\n",
    "my_list = [1, 2, 3]\n",
    "print(my_list)\n"
   ]
  },
  {
   "cell_type": "code",
   "execution_count": 12,
   "id": "1215d5b7-f8ae-4685-a640-2828601f84f2",
   "metadata": {},
   "outputs": [
    {
     "name": "stdout",
     "output_type": "stream",
     "text": [
      "[1, 5, 3]\n"
     ]
    }
   ],
   "source": [
    "# Modifying list is allowed\n",
    "my_list[1] = 5  \n",
    "print(my_list)"
   ]
  },
  {
   "cell_type": "markdown",
   "id": "837c726c-7153-46bb-92da-e961148d7383",
   "metadata": {},
   "source": [
    "### 5.Describe the key features of sets and provide examples of their use. \n",
    "<b>Unordered:</b> Sets do not maintain the order of elements.\n",
    "\n",
    "<b>Unique Elements:</b> Sets automatically remove duplicate values, ensuring all elements are unique.\n",
    "\n",
    "<b>Mutable:</b> Sets can be modified (elements can be added or removed).\n",
    "\n",
    "<b>Heterogeneous:</b> Sets can contain elements of different data types.\n",
    "\n",
    "<b>No Indexing or Slicing:</b> Since sets are unordered, elements cannot be accessed via index or sliced."
   ]
  },
  {
   "cell_type": "code",
   "execution_count": 16,
   "id": "4a2ed48f-47f4-4d1a-a54a-3172bb1feaee",
   "metadata": {},
   "outputs": [
    {
     "name": "stdout",
     "output_type": "stream",
     "text": [
      "Initial Set: {1, 2, 3, 4, 5}\n",
      "After Removing Duplicates: {1, 2, 3}\n",
      "After Adding and Removing: {1, 3, 6}\n",
      "Union: {1, 2, 3, 4, 5}\n",
      "Intersection: {3}\n",
      "Difference: {1, 2}\n"
     ]
    }
   ],
   "source": [
    "# Creating a set\n",
    "my_set = {1, 2, 3, 4, 5}\n",
    "print(\"Initial Set:\", my_set)  \n",
    "\n",
    "# Removing duplicates\n",
    "my_set = {1, 2, 2, 3}\n",
    "print(\"After Removing Duplicates:\", my_set)  \n",
    "\n",
    "# Adding and removing elements\n",
    "my_set.add(6)               \n",
    "my_set.remove(2)          \n",
    "print(\"After Adding and Removing:\", my_set)  \n",
    "\n",
    "# Set Operations (Union, Intersection, Difference)\n",
    "set1 = {1, 2, 3}\n",
    "set2 = {3, 4, 5}\n",
    "\n",
    "# Union of two sets\n",
    "print(\"Union:\", set1.union(set2))  \n",
    "\n",
    "# Intersection of two sets\n",
    "print(\"Intersection:\", set1.intersection(set2)) \n",
    "\n",
    "# Difference between two sets\n",
    "print(\"Difference:\", set1.difference(set2))  \n"
   ]
  },
  {
   "cell_type": "markdown",
   "id": "9fd265aa-3393-4290-af55-0b47c4445434",
   "metadata": {},
   "source": [
    "### 6.Discuss the use cases of tuples and sets in Python programming\n",
    "#### Tuples\n",
    "<b>Immutable Collections:</b> Tuples are used when the data should not change after creation, such as coordinates or fixed settings. <b>Data Integrity:</b> They help maintain constant data like configuration settings or static datasets that must remain unaltered. <b>Return Multiple Values:</b> Functions can return multiple values efficiently using tuples, enabling clear grouping of returned data. <b>Dictionary Keys:</b> Since tuples are hashable, they can be used as keys in dictionaries, unlike lists, which are mutable. <b>Storing Heterogeneous Data:</b> Tuples are useful for grouping elements of different data types into a single collection, maintaining data integrity.\n",
    "#### Sets\n",
    "<b>Removing Duplicates:</b> Sets are used to automatically discard duplicate elements, making them useful for data cleaning. <b>Membership Testing:</b> They allow for efficient checking of whether an element is present in the set, with constant time complexity. <b>Set Operations:</b> Sets are ideal for mathematical operations such as union, intersection, and difference, especially when comparing multiple collections. <b>Fast De-duplication:</b> Sets help maintain unique values in large datasets, reducing redundant information. <b>Handling Unordered Data:</b> Sets are used when the order of elements does not matter but ensuring uniqueness is essential."
   ]
  },
  {
   "cell_type": "markdown",
   "id": "7f9b907d-0661-46bf-9713-4fc95d7b7344",
   "metadata": {},
   "source": [
    "### 7.Describe how to add, modify, and delete items in a dictionary with examples.\n",
    "#### Adding Items to a Dictionary:\n",
    "You can add new key-value pairs to a dictionary by assigning a value to a new key.\n",
    "#### Modifying Items in a Dictionary:\n",
    "To modify an existing value, you can assign a new value to an existing key.\n",
    "#### Deleting Items from a Dictionary:\n",
    "You can delete items using the del statement, the pop() method, or the popitem() method.\n"
   ]
  },
  {
   "cell_type": "code",
   "execution_count": 17,
   "id": "3d4f1afe-fbff-40dc-9144-9f13d49e43b2",
   "metadata": {},
   "outputs": [
    {
     "name": "stdout",
     "output_type": "stream",
     "text": [
      "After Adding: {'name': 'soumya', 'age': 25, 'city': 'Bhubaneshwar'}\n",
      "After Modifying: {'name': 'soumya', 'age': 26, 'city': 'Bhubaneshwar'}\n",
      "After Deleting 'city': {'name': 'soumya', 'age': 26}\n",
      "Popped Age: 26\n",
      "After Popping 'age': {'name': 'soumya'}\n",
      "Popped Item: ('name', 'soumya')\n",
      "After Popping Last Item: {}\n"
     ]
    }
   ],
   "source": [
    "# Initial dictionary\n",
    "my_dict = {'name': 'soumya', 'age': 25}\n",
    "\n",
    "# Adding a new key-value pair\n",
    "my_dict['city'] = 'Bhubaneshwar'\n",
    "print(\"After Adding:\", my_dict)  \n",
    "\n",
    "# Modifying an existing key\n",
    "my_dict['age'] = 26\n",
    "print(\"After Modifying:\", my_dict)  \n",
    "\n",
    "# Deleting an item using del\n",
    "del my_dict['city']\n",
    "print(\"After Deleting 'city':\", my_dict) \n",
    "\n",
    "# Deleting an item using pop\n",
    "age = my_dict.pop('age')\n",
    "print(\"Popped Age:\", age)               \n",
    "print(\"After Popping 'age':\", my_dict)   \n",
    "\n",
    "# Deleting the last inserted item using popitem\n",
    "last_item = my_dict.popitem()\n",
    "print(\"Popped Item:\", last_item)       \n",
    "print(\"After Popping Last Item:\", my_dict)  \n"
   ]
  },
  {
   "cell_type": "markdown",
   "id": "943ce20f-f39c-4401-8de8-f09cd1a33192",
   "metadata": {},
   "source": [
    "### 8.Discuss the importance of dictionary keys being immutable and provide examples.\n",
    "The immutability of dictionary keys in Python is important because it ensures that keys remain constant and reliable for accessing values. Immutable keys, like strings and tuples, can be hashed, which allows for quick lookups and prevents errors. If mutable objects, like lists, were allowed as keys, changing a key could lead to confusion and unpredictable behavior, making it difficult to find associated values. By requiring keys to be immutable, Python maintains data integrity and clarity in how key-value pairs are stored and accessed. This makes dictionaries a powerful tool for organizing and retrieving data efficiently."
   ]
  },
  {
   "cell_type": "code",
   "execution_count": 19,
   "id": "1c559917-9419-409e-86eb-62161a78bf30",
   "metadata": {},
   "outputs": [
    {
     "name": "stdout",
     "output_type": "stream",
     "text": [
      "30\n",
      "25\n",
      "Point A\n"
     ]
    }
   ],
   "source": [
    "# Creating a dictionary with immutable keys (strings and a tuple)\n",
    "person_info = {\n",
    "    \"Soumya\": 30,                 # String as a key\n",
    "    \"Sikun\": 25,                  # String as a key\n",
    "    (1, 2): \"Point A\"             # Tuple as a key\n",
    "}\n",
    "\n",
    "# Accessing values using immutable keys\n",
    "print(person_info[\"Soumya\"])    \n",
    "print(person_info[\"Sikun\"])       \n",
    "print(person_info[(1, 2)])      \n",
    "\n",
    "# Trying to use a mutable key (list) will raise an error\n",
    "# This demonstrates that using immutable keys ensures data integrity and reliable access\n"
   ]
  },
  {
   "cell_type": "code",
   "execution_count": null,
   "id": "a14cf51a-e486-4d08-bd21-35187cfc9ccb",
   "metadata": {},
   "outputs": [],
   "source": []
  }
 ],
 "metadata": {
  "kernelspec": {
   "display_name": "Python 3 (ipykernel)",
   "language": "python",
   "name": "python3"
  },
  "language_info": {
   "codemirror_mode": {
    "name": "ipython",
    "version": 3
   },
   "file_extension": ".py",
   "mimetype": "text/x-python",
   "name": "python",
   "nbconvert_exporter": "python",
   "pygments_lexer": "ipython3",
   "version": "3.10.6"
  }
 },
 "nbformat": 4,
 "nbformat_minor": 5
}
