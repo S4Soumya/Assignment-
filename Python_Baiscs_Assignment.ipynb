{
 "cells": [
  {
   "cell_type": "code",
   "execution_count": 2,
   "id": "b2641989-577c-4282-8ea5-fef4b0fc90f7",
   "metadata": {},
   "outputs": [
    {
     "name": "stdin",
     "output_type": "stream",
     "text": [
      "Please enter value for a:  11\n",
      "Please enter value for b:  1\n"
     ]
    },
    {
     "name": "stdout",
     "output_type": "stream",
     "text": [
      "a= 11\n",
      "b= 1\n",
      "iteration no: 1\n",
      "congratulation answer is: 11\n"
     ]
    }
   ],
   "source": [
    "  \n",
    "a = input(\"Please enter value for a: \")\n",
    "b = input(\"Please enter value for b: \")\n",
    "a=int(a)\n",
    "b=int(b)\n",
    "count=0\n",
    "while a<b:\n",
    "    count+=1\n",
    "    if ((a % b == 0) or (a>b)):\n",
    "         c= a / b\n",
    "         print (c)\n",
    "    elif a<b:\n",
    "         if count!=b:\n",
    "          print(\"you are an idiot\")\n",
    "          c= a / b\n",
    "          print(\"a=\",(a))\n",
    "          print(\"b=\",(b))\n",
    "          print(\"iteration no:\",(count))\n",
    "          print(\"quotient is:\",(c))\n",
    "          a+=1\n",
    "c= a * b\n",
    "count+=1\n",
    "print(\"a=\",(a))\n",
    "print(\"b=\",(b))\n",
    "print(\"iteration no:\",(count))\n",
    "print(\"congratulation answer is:\",(c))\n",
    "\n",
    "       \n",
    "            \n",
    "        \n",
    "\n",
    "    "
   ]
  },
  {
   "cell_type": "code",
   "execution_count": 10,
   "id": "7f7d4e15-534c-4854-8226-97cfcd1b7dfe",
   "metadata": {},
   "outputs": [
    {
     "name": "stdin",
     "output_type": "stream",
     "text": [
      "number of line  5\n"
     ]
    },
    {
     "name": "stdout",
     "output_type": "stream",
     "text": [
      "*\n",
      "**\n",
      "***\n",
      "****\n",
      "*****\n"
     ]
    }
   ],
   "source": [
    "b=int(input(\"number of line \"))\n",
    "for i in range(b):\n",
    "    for a in range(i+1):\n",
    "      print(\"*\", end=\"\")\n",
    "    print()\n",
    "      "
   ]
  },
  {
   "cell_type": "code",
   "execution_count": 22,
   "id": "1ff1b0ab-4203-4db6-b796-3c0d41adead4",
   "metadata": {},
   "outputs": [
    {
     "name": "stdin",
     "output_type": "stream",
     "text": [
      "number of line  10\n"
     ]
    },
    {
     "name": "stdout",
     "output_type": "stream",
     "text": [
      "*  *  *  *  *  *  *  *  *  *  \n",
      "*  *  *  *  *  *  *  *  *  *  \n",
      "*  *  *  *  *  *  *  *  *  *  \n",
      "*  *  *  *  *  *  *  *  *  *  \n",
      "*  *  *  *  *  *  *  *  *  *  \n",
      "*  *  *  *  *  *  *  *  *  *  \n",
      "*  *  *  *  *  *  *  *  *  *  \n",
      "*  *  *  *  *  *  *  *  *  *  \n",
      "*  *  *  *  *  *  *  *  *  *  \n",
      "*  *  *  *  *  *  *  *  *  *  \n"
     ]
    }
   ],
   "source": [
    "b=int(input(\"number of line \"))\n",
    "for i in range(b):\n",
    "    for a in range(b):\n",
    "      print(\"*\", end=\"  \")\n",
    "    print()\n",
    "      "
   ]
  },
  {
   "cell_type": "code",
   "execution_count": null,
   "id": "f97e1382-91e4-4911-94e3-2e5421b68b62",
   "metadata": {},
   "outputs": [],
   "source": []
  }
 ],
 "metadata": {
  "kernelspec": {
   "display_name": "Python 3 (ipykernel)",
   "language": "python",
   "name": "python3"
  },
  "language_info": {
   "codemirror_mode": {
    "name": "ipython",
    "version": 3
   },
   "file_extension": ".py",
   "mimetype": "text/x-python",
   "name": "python",
   "nbconvert_exporter": "python",
   "pygments_lexer": "ipython3",
   "version": "3.10.6"
  }
 },
 "nbformat": 4,
 "nbformat_minor": 5
}
