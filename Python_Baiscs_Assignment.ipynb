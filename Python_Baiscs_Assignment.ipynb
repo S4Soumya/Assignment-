{
 "cells": [
  {
   "cell_type": "markdown",
   "id": "e7c9a245-7bb9-4ebc-ba43-f61c8e9cf072",
   "metadata": {},
   "source": [
    "#### 1 Explain the key features of Python that make it a popular choice for programming.\n",
    "\n",
    "1.Readability: Any beginner can clear and easily understand syntax and codes.<br>\n",
    "2.Versatility: This language is highly versatile as it is used for web development, data science, automation, etc.<br>\n",
    "3.Large ecosystem: There are thousands of rich libraries and frameworks.<br>\n",
    "4.Interpreted language: It has no need for compilation, which makes it ideal for rapid prototyping.<br>\n",
    "5.Community support: It has a huge active global community for help and resources.<br>\n",
    "6.Ease of learning: It is a very Beginner friendly language.<br>\n",
    "\n",
    "\n",
    "\n",
    "\n",
    "\n"
   ]
  },
  {
   "cell_type": "markdown",
   "id": "766f5c1a-cc2b-436b-b70d-7629389de370",
   "metadata": {},
   "source": [
    "#### 2. Describe the role of predefined keywords in Python and provide examples of how they are used in a program.\n",
    "Predefined keywords in Python are reserved words that have specific meanings and functions. They define the syntax and structure of the language. These keywords can't be used as identifiers like variable or function names and are essential for writing control flow, loops, and more. Examples include if, else, while, etc. They help in defining logic, structure, and behavior in Python programs.\n"
   ]
  },
  {
   "cell_type": "code",
   "execution_count": 4,
   "id": "83f3651f-e522-4e09-8ed0-684f47b192e8",
   "metadata": {},
   "outputs": [
    {
     "name": "stdout",
     "output_type": "stream",
     "text": [
      "x is greater than 5\n"
     ]
    }
   ],
   "source": [
    "#Example of if , elif, else.\n",
    "x = 10\n",
    "if x > 5:\n",
    "    print(\"x is greater than 5\")\n",
    "elif x == 5:\n",
    "    print(\"x is equal to 5\")\n",
    "else:\n",
    "    print(\"x is less than 5\")"
   ]
  },
  {
   "cell_type": "code",
   "execution_count": 5,
   "id": "b0c52d74-668b-4dd9-bc03-92206e52b7bb",
   "metadata": {},
   "outputs": [
    {
     "name": "stdout",
     "output_type": "stream",
     "text": [
      "0\n",
      "1\n",
      "2\n",
      "0\n",
      "1\n",
      "2\n"
     ]
    }
   ],
   "source": [
    "#Example of for, while loop.\n",
    "for i in range(3):\n",
    "    print(i)\n",
    "\n",
    "count = 0\n",
    "while count < 3:\n",
    "    print(count)\n",
    "    count += 1\n"
   ]
  },
  {
   "cell_type": "markdown",
   "id": "592f002f-ae4a-4a59-8f9d-b7c8422b1d12",
   "metadata": {},
   "source": [
    "### 3.Compare and Contrast Mutable and Immutable Objects in Python with example.\n",
    "In Python, mutable and immutable objects are differentiated by whether their contents can be changed after they are created.\n",
    "#### Mutable Objects:-\n",
    "Objects that can be changed after creation.\n",
    "#### Immutable Objects:-\n",
    "Objects that cannot be changed after creation.\n"
   ]
  },
  {
   "cell_type": "code",
   "execution_count": 7,
   "id": "7e678e44-309a-43b2-b67e-72d31d11467b",
   "metadata": {},
   "outputs": [
    {
     "name": "stdout",
     "output_type": "stream",
     "text": [
      "[10, 2, 3]\n"
     ]
    }
   ],
   "source": [
    "#Example of mutable object.\n",
    "my_list = [1, 2, 3] \n",
    "my_list[0] = 10      \n",
    "print(my_list)       \n"
   ]
  },
  {
   "cell_type": "code",
   "execution_count": 8,
   "id": "f60ac7f6-cf6e-4163-b7ca-89e35100a803",
   "metadata": {},
   "outputs": [
    {
     "name": "stdout",
     "output_type": "stream",
     "text": [
      "Hello World\n"
     ]
    }
   ],
   "source": [
    "#Example of immutable object.\n",
    "my_str = \"Hello\"\n",
    "my_str += \" World\"   \n",
    "print(my_str)   "
   ]
  },
  {
   "cell_type": "markdown",
   "id": "cbd8d95e-6120-4611-8f22-ba72a6c3eb6c",
   "metadata": {},
   "source": [
    "### 4.Discuss the different types of operators in Python and provide examples of how they are used.\n",
    "#### Arithmetic Operators\n",
    "Used for performing mathematical operations.\n",
    "#### Comparison Operators\n",
    "Used to compare values, returning True or False.\n",
    "#### Logical Operators\n",
    "Used to combine conditional statements.\n",
    "#### Assignment Operators\n",
    "Used to assign values to variables.\n",
    "#### Bitwise Operators\n",
    "Used to perform bit-level operations."
   ]
  },
  {
   "cell_type": "code",
   "execution_count": 9,
   "id": "206a4ef3-30b1-4ff9-ac97-cc1dc64993b6",
   "metadata": {},
   "outputs": [
    {
     "name": "stdout",
     "output_type": "stream",
     "text": [
      "13\n",
      "7\n",
      "30\n",
      "3.3333333333333335\n",
      "1\n",
      "1000\n",
      "3\n"
     ]
    }
   ],
   "source": [
    "#Example for Arithmetic Operators.\n",
    "a = 10\n",
    "b = 3\n",
    "\n",
    "print(a + b) \n",
    "print(a - b)  \n",
    "print(a * b)  \n",
    "print(a / b)  \n",
    "print(a % b) \n",
    "print(a ** b)\n",
    "print(a // b) \n"
   ]
  },
  {
   "cell_type": "code",
   "execution_count": 10,
   "id": "b39a2a51-8267-4568-9d1e-ac8259f039db",
   "metadata": {},
   "outputs": [
    {
     "name": "stdout",
     "output_type": "stream",
     "text": [
      "False\n",
      "True\n",
      "False\n",
      "True\n"
     ]
    }
   ],
   "source": [
    "#Example of Comparison Operators.\n",
    "x = 5\n",
    "y = 8\n",
    "\n",
    "print(x == y)  \n",
    "print(x != y) \n",
    "print(x > y) \n",
    "print(x <= y)  \n"
   ]
  },
  {
   "cell_type": "code",
   "execution_count": 11,
   "id": "d73b5068-2270-4d7d-91ed-3f4f15d89dcc",
   "metadata": {},
   "outputs": [
    {
     "name": "stdout",
     "output_type": "stream",
     "text": [
      "False\n",
      "True\n",
      "False\n"
     ]
    }
   ],
   "source": [
    "#Example of Logical Operators.\n",
    "a = True\n",
    "b = False\n",
    "\n",
    "print(a and b)  \n",
    "print(a or b)   \n",
    "print(not a)    \n"
   ]
  },
  {
   "cell_type": "code",
   "execution_count": 12,
   "id": "e0da1085-24f5-439c-bc30-4fb0b9dfad9f",
   "metadata": {},
   "outputs": [
    {
     "name": "stdout",
     "output_type": "stream",
     "text": [
      "15\n"
     ]
    }
   ],
   "source": [
    "#Example of Assignment Operators.\n",
    "x = 10\n",
    "x += 5  \n",
    "print(x)\n"
   ]
  },
  {
   "cell_type": "code",
   "execution_count": 13,
   "id": "1d4d00c1-e8b0-4992-8d11-43cff7372723",
   "metadata": {},
   "outputs": [
    {
     "name": "stdout",
     "output_type": "stream",
     "text": [
      "1\n",
      "7\n",
      "6\n"
     ]
    }
   ],
   "source": [
    "#Example of bitwise operator.\n",
    "a = 5     \n",
    "b = 3    \n",
    "\n",
    "print(a & b) \n",
    "print(a | b) \n",
    "print(a ^ b) \n"
   ]
  },
  {
   "cell_type": "markdown",
   "id": "d86f36c6-5406-408a-914c-e178ba25741d",
   "metadata": {},
   "source": [
    "#### 5.Explain the concept of type casting in Python with examples.\n",
    "Type casting in Python is the process of converting a variable from one data type to another. This can be useful when performing operations that require specific data types. Python provides several built-in functions for type casting."
   ]
  },
  {
   "cell_type": "code",
   "execution_count": 15,
   "id": "da1a3b14-f8f1-47dd-801c-5f219c0c78c8",
   "metadata": {},
   "outputs": [
    {
     "name": "stdout",
     "output_type": "stream",
     "text": [
      "5\n",
      "10\n"
     ]
    }
   ],
   "source": [
    "#Example of types casting.\n",
    "# From float to int\n",
    "num_float = 5.7\n",
    "num_int = int(num_float)  \n",
    "print(num_int)  \n",
    "\n",
    "# From string to int\n",
    "num_str = \"10\"\n",
    "num_int_from_str = int(num_str)\n",
    "print(num_int_from_str) \n"
   ]
  },
  {
   "cell_type": "markdown",
   "id": "7e98e074-df49-42dc-8e15-4f870bb9dc63",
   "metadata": {},
   "source": [
    "### 6.How do conditional statements work in Python? Illustrate with examples.\n",
    "Conditional statements in Python allow you to execute certain blocks of code based on specific conditions. The main conditional statements are if, elif, and else. These statements help control the flow of the program based on whether a condition is true or false."
   ]
  },
  {
   "cell_type": "code",
   "execution_count": 16,
   "id": "8a893a41-e558-40e0-a8eb-658c5c7cddd4",
   "metadata": {},
   "outputs": [
    {
     "name": "stdin",
     "output_type": "stream",
     "text": [
      "Enter your age:  12\n",
      "Enter your marks:  25\n"
     ]
    },
    {
     "name": "stdout",
     "output_type": "stream",
     "text": [
      "You are not eligible to vote yet.\n",
      "Grade: D\n"
     ]
    }
   ],
   "source": [
    "#Example of conditional statement.\n",
    "# Program to determine eligibility to vote and assign a grade based on marks\n",
    "age = int(input(\"Enter your age: \"))\n",
    "marks = int(input(\"Enter your marks: \"))\n",
    "if age >= 18:\n",
    "    print(\"You are eligible to vote.\")\n",
    "    if age >= 21:\n",
    "        print(\"You can vote in all elections.\")\n",
    "    else:\n",
    "        print(\"You can vote in local elections.\")\n",
    "else:\n",
    "    print(\"You are not eligible to vote yet.\")\n",
    "if marks >= 90:\n",
    "    print(\"Grade: A\")\n",
    "elif marks >= 75:\n",
    "    print(\"Grade: B\")\n",
    "elif marks >= 60:\n",
    "    print(\"Grade: C\")\n",
    "else:\n",
    "    print(\"Grade: D\")\n"
   ]
  },
  {
   "cell_type": "markdown",
   "id": "60f051a4-7ead-427f-8509-d1339b6f1dda",
   "metadata": {},
   "source": [
    "### 7. Describe the different types of loops in Python and their use cases with examples.\n",
    "In Python, loops are used to execute a block of code repeatedly based on a condition. The main types of loops are for loops and while loops. Each has its use cases and syntax.\n",
    "#### For Loop\n",
    "The for loop iterates over a sequence (like a list, string, or range) and executes a block of code for each item in the sequence.\n",
    "#### While Loop\n",
    "The while loop repeatedly executes a block of code as long as a specified condition is True."
   ]
  },
  {
   "cell_type": "code",
   "execution_count": 17,
   "id": "3ef491bc-c6db-4554-9289-ff4cedf44115",
   "metadata": {},
   "outputs": [
    {
     "name": "stdout",
     "output_type": "stream",
     "text": [
      "Please enter 5 numbers:\n"
     ]
    },
    {
     "name": "stdin",
     "output_type": "stream",
     "text": [
      "Number 1:  5\n",
      "Number 2:  54\n",
      "Number 3:  65\n",
      "Number 4:  66\n",
      "Number 5:  6\n"
     ]
    },
    {
     "name": "stdout",
     "output_type": "stream",
     "text": [
      "\n",
      "The total sum of the numbers is: 196\n"
     ]
    }
   ],
   "source": [
    "#Example of for loop.\n",
    "# Program to calculate the sum of numbers using a for loop\n",
    "total_sum = 0\n",
    "num_count = 5\n",
    "print(f\"Please enter {num_count} numbers:\")\n",
    "for i in range(num_count):\n",
    "    number = int(input(f\"Number {i + 1}: \"))  # Prompt user for a number\n",
    "    total_sum += number  # Add the number to the total sum\n",
    "print(f\"\\nThe total sum of the numbers is: {total_sum}\")\n"
   ]
  },
  {
   "cell_type": "code",
   "execution_count": 21,
   "id": "cf315416-1dca-4804-a6bc-9e6a7415b5d5",
   "metadata": {},
   "outputs": [
    {
     "name": "stdout",
     "output_type": "stream",
     "text": [
      "Enter numbers to sum them up (enter 0 to stop):\n"
     ]
    },
    {
     "name": "stdin",
     "output_type": "stream",
     "text": [
      "Enter a number:  13\n",
      "Enter a number:  366\n",
      "Enter a number:  6\n",
      "Enter a number:  0\n"
     ]
    },
    {
     "name": "stdout",
     "output_type": "stream",
     "text": [
      "\n",
      "The total sum of the numbers is: 385\n"
     ]
    }
   ],
   "source": [
    "#Example of while loop.\n",
    "# Program to calculate the sum of numbers using a while loop\n",
    "total_sum = 0\n",
    "print(\"Enter numbers to sum them up (enter 0 to stop):\")\n",
    "while True:\n",
    "    number = int(input(\"Enter a number: \"))  # Prompt user for a number\n",
    "    if number == 0:\n",
    "        break  # Exit the loop if the number is 0\n",
    "    total_sum += number  # Add the number to the total sum\n",
    "print(f\"\\nThe total sum of the numbers is: {total_sum}\")\n",
    "\n"
   ]
  },
  {
   "cell_type": "code",
   "execution_count": null,
   "id": "422db170-6d09-40e9-9c30-9d9b88494219",
   "metadata": {},
   "outputs": [],
   "source": []
  }
 ],
 "metadata": {
  "kernelspec": {
   "display_name": "Python 3 (ipykernel)",
   "language": "python",
   "name": "python3"
  },
  "language_info": {
   "codemirror_mode": {
    "name": "ipython",
    "version": 3
   },
   "file_extension": ".py",
   "mimetype": "text/x-python",
   "name": "python",
   "nbconvert_exporter": "python",
   "pygments_lexer": "ipython3",
   "version": "3.10.6"
  }
 },
 "nbformat": 4,
 "nbformat_minor": 5
}
