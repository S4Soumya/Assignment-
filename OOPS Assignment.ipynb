{
 "cells": [
  {
   "cell_type": "markdown",
   "id": "800a5448-3f8b-4ac2-8fbe-ee3711a8136a",
   "metadata": {},
   "source": [
    "### 1.Five Key Concepts of Object-Oriented Programming (OOP):\n",
    "1.Encapsulation<br>\n",
    "2.Abstraction<br>\n",
    "3.Inheritance<br>\n",
    "4.Polymorphism<br>\n",
    "5.Classes & Objects<br>"
   ]
  },
  {
   "cell_type": "markdown",
   "id": "89fde063-552c-4117-b51a-df8a02a92271",
   "metadata": {},
   "source": [
    "### 2.Python Class for a Car:"
   ]
  },
  {
   "cell_type": "code",
   "execution_count": 2,
   "id": "436cde13-ae18-49e7-b60e-83603f85f9b5",
   "metadata": {},
   "outputs": [
    {
     "name": "stdout",
     "output_type": "stream",
     "text": [
      "Car: 2022 Toyota Corolla\n"
     ]
    }
   ],
   "source": [
    "class Car:\n",
    "    def __init__(self, make, model, year):\n",
    "        self.make = make\n",
    "        self.model = model\n",
    "        self.year = year\n",
    "\n",
    "    def display_info(self):\n",
    "        print(f\"Car: {self.year} {self.make} {self.model}\")\n",
    "my_car = Car(\"Toyota\", \"Corolla\", 2022)\n",
    "my_car.display_info()\n"
   ]
  },
  {
   "cell_type": "markdown",
   "id": "caeca072-b60e-4e54-92f8-d9257640a930",
   "metadata": {},
   "source": [
    "### 3.Difference Between Instance Methods and Class Methods:\n",
    "\n",
    "Instance Methods: Operate on an instance of the class. They can access and modify the object’s attributes. Use self as the first parameter.<br>\n",
    "Class Methods: Operate on the class itself. They do not modify object state. Use cls as the first parameter and are defined using @classmethod decorator.<br>"
   ]
  },
  {
   "cell_type": "code",
   "execution_count": 22,
   "id": "e507f04c-dac6-41f7-a992-dc3ef156367a",
   "metadata": {},
   "outputs": [
    {
     "name": "stdout",
     "output_type": "stream",
     "text": [
      "Name: shera, Age: 10\n",
      "Name: lucky, Age: 5\n",
      "Species: dog\n",
      "Species after change: still a dog, I can't change species I'm not god FYI THEY ARE MY PET DOGS\n",
      "Species after change: still a dog, I can't change species I'm not god FYI THEY ARE MY PET DOGS\n"
     ]
    }
   ],
   "source": [
    "class Person:\n",
    "    # Class attribute\n",
    "    species = \"dog\"\n",
    "\n",
    "    def __init__(self, name, age):\n",
    "        # Instance attributes\n",
    "        self.name = name\n",
    "        self.age = age\n",
    "\n",
    "    # Instance method\n",
    "    def display_info(self):\n",
    "        print(f\"Name: {self.name}, Age: {self.age}\")\n",
    "\n",
    "    # Class method\n",
    "    @classmethod\n",
    "    def change_species(cls, new_species):\n",
    "        cls.species = new_species\n",
    "\n",
    "# Usage Example\n",
    "# Creating instances of the Person class\n",
    "person1 = Person(\"shera\", 10)\n",
    "person2 = Person(\"lucky\", 5)\n",
    "\n",
    "# Using instance method\n",
    "person1.display_info()\n",
    "person2.display_info()  \n",
    "\n",
    "# Accessing class attribute via instance\n",
    "print(f\"Species: {person1.species}\") \n",
    "\n",
    "# Using class method to modify the class attribute\n",
    "Person.change_species(\"still a dog, I can't change species I'm not god FYI THEY ARE MY PET DOGS\")\n",
    "\n",
    "# Accessing the modified class attribute\n",
    "print(f\"Species after change: {person1.species}\") \n",
    "print(f\"Species after change: {person2.species}\") \n"
   ]
  },
  {
   "cell_type": "markdown",
   "id": "eb9bea6a-8426-4b0f-83f2-54eb2c909b31",
   "metadata": {},
   "source": [
    "### 4.Method Overloading in Python:\n",
    "Python does not support traditional method overloading.<br>\n",
    "Instead, you can use default parameters or variable arguments (*args, **kwargs) to mimic it."
   ]
  },
  {
   "cell_type": "code",
   "execution_count": 5,
   "id": "4d67ba4f-b78c-42ef-8d28-9fa64a4973c3",
   "metadata": {},
   "outputs": [
    {
     "name": "stdout",
     "output_type": "stream",
     "text": [
      "15\n",
      "30\n"
     ]
    }
   ],
   "source": [
    "class MathOperations:\n",
    "    def add(self, a, b, c=0):\n",
    "        return a + b + c\n",
    "\n",
    "op = MathOperations()\n",
    "print(op.add(5, 10))     # 2 arguments\n",
    "print(op.add(5, 10, 15)) # 3 arguments\n"
   ]
  },
  {
   "cell_type": "markdown",
   "id": "a2c66939-2def-4b12-a485-8c033925a2bb",
   "metadata": {},
   "source": [
    "### 5.Access Modifiers in Python:\n",
    "\n",
    "Public: No underscores (e.g., variable)<br>\n",
    "Protected: Single underscore _variable<br>\n",
    "Private: Double underscores __variable<br>\n"
   ]
  },
  {
   "cell_type": "markdown",
   "id": "68ccdbe7-5e7b-4ced-8e7b-a8807229bd99",
   "metadata": {},
   "source": [
    "\n",
    "### 6.In Python, there are five types of inheritance:\n",
    "\n",
    "#### 1.Single Inheritance \n",
    "It involves a child class inheriting from one parent class, allowing it to reuse the parent's attributes and methods.<br>\n",
    "\n",
    "#### 2.Multiple Inheritance \n",
    "It allows a child class to inherit from more than one parent class, enabling it to combine functionalities from multiple sources. This can lead to complex scenarios but offers flexibility when carefully managed.<br>\n",
    "\n",
    "#### 3.Multilevel Inheritance \n",
    "It occurs when a child class inherits from a parent class, which itself is derived from another parent, forming a chain. This type is used for creating deeper class hierarchies, enabling attributes and behaviors to pass down through multiple generations.<br>\n",
    "\n",
    "#### 4.Hierarchical Inheritance \n",
    "It features one parent class being inherited by multiple child classes, allowing each child to have access to the parent's features while also extending or modifying them individually.<br>\n",
    "\n",
    "#### 5.Hybrid Inheritance\n",
    "It is a mix of two or more inheritance types, combining the characteristics of multiple and multilevel inheritance to form a more complex class hierarchy. Python resolves ambiguity in hybrid inheritance using the Method Resolution Order (MRO).<br>"
   ]
  },
  {
   "cell_type": "code",
   "execution_count": 6,
   "id": "ebb66a2b-dbaf-4e47-a3f9-538ddb0e8e7e",
   "metadata": {},
   "outputs": [
    {
     "name": "stdout",
     "output_type": "stream",
     "text": [
      "Parent1 method\n",
      "Parent2 method\n"
     ]
    }
   ],
   "source": [
    "class Parent1:\n",
    "    def method1(self):\n",
    "        print(\"Parent1 method\")\n",
    "\n",
    "class Parent2:\n",
    "    def method2(self):\n",
    "        print(\"Parent2 method\")\n",
    "\n",
    "class Child(Parent1, Parent2):\n",
    "    pass\n",
    "\n",
    "c = Child()\n",
    "c.method1()  # From Parent1\n",
    "c.method2()  # From Parent2\n"
   ]
  },
  {
   "cell_type": "markdown",
   "id": "6cd214bc-0655-4665-930d-9af436b6521c",
   "metadata": {},
   "source": [
    "### 7.Method Resolution Order (MRO):\n"
   ]
  },
  {
   "cell_type": "raw",
   "id": "0d2e8e54-8d62-4ae5-8c75-01738a85d8ac",
   "metadata": {},
   "source": [
    "MRO is the order in which Python looks for a method in a hierarchy of classes.<br>\n",
    "Retrieve MRO using ClassName.mro() or ClassName.__mro__."
   ]
  },
  {
   "cell_type": "markdown",
   "id": "a2fa3f71-c2ad-4921-be53-300bb4d4c891",
   "metadata": {},
   "source": [
    "### 8.Abstract Base Class Shape:"
   ]
  },
  {
   "cell_type": "code",
   "execution_count": 7,
   "id": "17377b12-9310-4a1b-adf2-1598aafe3953",
   "metadata": {},
   "outputs": [],
   "source": [
    "from abc import ABC, abstractmethod\n",
    "\n",
    "class Shape(ABC):\n",
    "    @abstractmethod\n",
    "    def area(self):\n",
    "        pass\n",
    "\n",
    "class Circle(Shape):\n",
    "    def __init__(self, radius):\n",
    "        self.radius = radius\n",
    "\n",
    "    def area(self):\n",
    "        return 3.14 * self.radius * self.radius\n",
    "\n",
    "class Rectangle(Shape):\n",
    "    def __init__(self, width, height):\n",
    "        self.width = width\n",
    "        self.height = height\n",
    "\n",
    "    def area(self):\n",
    "        return self.width * self.height\n"
   ]
  },
  {
   "cell_type": "code",
   "execution_count": 20,
   "id": "d6d60f33-1a09-4af2-a0fd-e6857bee343f",
   "metadata": {},
   "outputs": [
    {
     "name": "stdout",
     "output_type": "stream",
     "text": [
      "Area of the circle: 78.5\n",
      "Area of the rectangle: 24\n"
     ]
    }
   ],
   "source": [
    "# Creating instances of Circle and Rectangle\n",
    "circle = Circle(5)  \n",
    "rectangle = Rectangle(4, 6)  \n",
    "\n",
    "# Calculating and printing areas\n",
    "print(f\"Area of the circle: {circle.area()}\")      \n",
    "print(f\"Area of the rectangle: {rectangle.area()}\") \n"
   ]
  },
  {
   "cell_type": "markdown",
   "id": "a7725df7-a205-4446-929f-d55b1c5e522d",
   "metadata": {},
   "source": [
    "### 9.Polymorphism Example:"
   ]
  },
  {
   "cell_type": "code",
   "execution_count": 8,
   "id": "55cb2b97-8e75-48f5-ac8f-03ee8eb8beee",
   "metadata": {},
   "outputs": [
    {
     "name": "stdout",
     "output_type": "stream",
     "text": [
      "The area is: 78.5\n",
      "The area is: 24\n"
     ]
    }
   ],
   "source": [
    "def print_area(shape):\n",
    "    print(f\"The area is: {shape.area()}\")\n",
    "\n",
    "c = Circle(5)\n",
    "r = Rectangle(4, 6)\n",
    "print_area(c)\n",
    "print_area(r)\n"
   ]
  },
  {
   "cell_type": "markdown",
   "id": "f5c27fee-4a44-4392-831e-e49467d25ea9",
   "metadata": {},
   "source": [
    "### 10.Encapsulation in BankAccount Class:"
   ]
  },
  {
   "cell_type": "code",
   "execution_count": 17,
   "id": "e4ba94d1-341f-4b27-a5f9-d4846e9b217b",
   "metadata": {},
   "outputs": [],
   "source": [
    "class BankAccount:\n",
    "    def __init__(self, account_number, initial_balance=0):\n",
    "        self.__account_number = account_number  # Private attribute\n",
    "        self.__balance = initial_balance        # Private attribute\n",
    "\n",
    "    def deposit(self, amount):\n",
    "        # Add money to the balance\n",
    "        self.__balance += amount\n",
    "        print(f\"Deposited: {amount}, New Balance: {self.__balance}\")\n",
    "\n",
    "    def withdraw(self, amount):\n",
    "        # Subtract money from the balance if enough funds are available\n",
    "        if amount <= self.__balance:\n",
    "            self.__balance -= amount\n",
    "            print(f\"Withdrawn: {amount}, New Balance: {self.__balance}\")\n",
    "        else:\n",
    "            print(\"Insufficient funds\")\n",
    "\n",
    "    def get_balance(self):\n",
    "        # Access the current balance\n",
    "        return self.__balance\n"
   ]
  },
  {
   "cell_type": "code",
   "execution_count": 19,
   "id": "f65ed2fb-3e6b-41d3-a61b-8e141b081a55",
   "metadata": {},
   "outputs": [
    {
     "name": "stdout",
     "output_type": "stream",
     "text": [
      "Deposited: 500, New Balance: 1500\n",
      "Withdrawn: 300, New Balance: 1200\n",
      "Insufficient funds\n",
      "Current Balance: 1200\n"
     ]
    }
   ],
   "source": [
    "# Creating a new bank account with an initial balance of 1000\n",
    "my_account = BankAccount(\"1234567890\", 1000)\n",
    "\n",
    "# Depositing money\n",
    "my_account.deposit(500)  \n",
    "\n",
    "# Withdrawing money\n",
    "my_account.withdraw(300) \n",
    "# Attempting to withdraw more money than available\n",
    "my_account.withdraw(2000)  \n",
    "\n",
    "# Checking balance\n",
    "current_balance = my_account.get_balance()\n",
    "print(f\"Current Balance: {current_balance}\")  \n"
   ]
  },
  {
   "cell_type": "markdown",
   "id": "ea966b90-00cf-47de-a993-8a142cd66600",
   "metadata": {},
   "source": [
    "### 11.Override  _ _ _str_ _ _ and _ _ _add_ _ _:"
   ]
  },
  {
   "cell_type": "code",
   "execution_count": 11,
   "id": "7b47d06e-a00b-4cf3-9f92-2d35f6c42ab7",
   "metadata": {},
   "outputs": [
    {
     "name": "stdout",
     "output_type": "stream",
     "text": [
      "Example object with value 5\n",
      "Example object with value 15\n"
     ]
    }
   ],
   "source": [
    "class Example:\n",
    "    def __init__(self, value):\n",
    "        self.value = value\n",
    "\n",
    "    def __str__(self):\n",
    "        return f\"Example object with value {self.value}\"\n",
    "\n",
    "    def __add__(self, other):\n",
    "        return Example(self.value + other.value)\n",
    "\n",
    "# Example usage\n",
    "e1 = Example(5)\n",
    "e2 = Example(10)\n",
    "print(e1)                # Uses __str__\n",
    "print(e1 + e2)           # Uses __add__\n"
   ]
  },
  {
   "cell_type": "markdown",
   "id": "141d802a-6644-4415-8a6a-e8670906bc18",
   "metadata": {},
   "source": [
    "### 12.Decorator for Measuring Execution Time:"
   ]
  },
  {
   "cell_type": "code",
   "execution_count": 16,
   "id": "c7c9856d-3f14-4c02-9f93-7e0c3db16496",
   "metadata": {},
   "outputs": [
    {
     "name": "stdout",
     "output_type": "stream",
     "text": [
      "Result: 499999500000\n"
     ]
    }
   ],
   "source": [
    "import time\n",
    "\n",
    "# Decorator to measure execution time\n",
    "def timer_decorator(func):\n",
    "    def wrapper(*args, **kwargs):\n",
    "        start_time = time.time()  # Record the start time\n",
    "        result = func(*args, **kwargs)  # Call the original function\n",
    "        end_time = time.time()  # Record the end time\n",
    "        execution_time = end_time - start_time\n",
    "        print(f\"Execution time of {func.__name__}: {execution_time:.4f} seconds\")\n",
    "        return result  # Return the result of the original function\n",
    "    return wrapper\n",
    "\n",
    "# Example usage\n",
    "#timer_decorator\n",
    "def example_function(n):\n",
    "    # A function that simulates a time-consuming task\n",
    "    total = 0\n",
    "    for i in range(n):\n",
    "        total += i\n",
    "    return total\n",
    "\n",
    "# Calling the decorated function\n",
    "result = example_function(1000000)\n",
    "print(f\"Result: {result}\")\n"
   ]
  },
  {
   "cell_type": "markdown",
   "id": "e1d5ed90-2cf3-4ceb-b10b-99f837aca8ac",
   "metadata": {},
   "source": [
    "### 13.Diamond Problem in Multiple Inheritance:\n",
    "\n",
    "The Diamond Problem occurs when a class inherits from two classes that have a common ancestor.<br>\n",
    "Python resolves it using the MRO, following the C3 linearization algorithm.<br>"
   ]
  },
  {
   "cell_type": "markdown",
   "id": "4f41bd10-e729-42aa-94d1-71d3c8d26e22",
   "metadata": {},
   "source": [
    "### 14.Class Method Tracking Instances:"
   ]
  },
  {
   "cell_type": "code",
   "execution_count": 14,
   "id": "1f07dd54-835d-4046-b967-8b366ff2e77f",
   "metadata": {},
   "outputs": [],
   "source": [
    "class InstanceTracker:\n",
    "    count = 0\n",
    "\n",
    "    def __init__(self):\n",
    "        InstanceTracker.count += 1\n",
    "\n",
    "    @classmethod\n",
    "    def get_instance_count(cls):\n",
    "        return cls.count\n"
   ]
  },
  {
   "cell_type": "markdown",
   "id": "721f2465-1a18-4747-a8ec-76b57941515c",
   "metadata": {},
   "source": [
    "### 15.Static Method to Check Leap Year:"
   ]
  },
  {
   "cell_type": "code",
   "execution_count": 15,
   "id": "a5aba3df-a0e8-4e93-bbc7-58470030f6b5",
   "metadata": {},
   "outputs": [
    {
     "name": "stdout",
     "output_type": "stream",
     "text": [
      "2020 is a leap year: True\n",
      "1900 is a leap year: False\n",
      "2000 is a leap year: True\n"
     ]
    }
   ],
   "source": [
    "class DateUtils:\n",
    "    @staticmethod\n",
    "    def is_leap_year(year):\n",
    "        # A year is a leap year if it's divisible by 4, but not divisible by 100 unless it's also divisible by 400.\n",
    "        return year % 4 == 0 and (year % 100 != 0 or year % 400 == 0)\n",
    "\n",
    "# Example usage\n",
    "year1 = 2020\n",
    "year2 = 1900\n",
    "year3 = 2000\n",
    "\n",
    "print(f\"{year1} is a leap year: {DateUtils.is_leap_year(year1)}\")\n",
    "print(f\"{year2} is a leap year: {DateUtils.is_leap_year(year2)}\")  \n",
    "print(f\"{year3} is a leap year: {DateUtils.is_leap_year(year3)}\") "
   ]
  },
  {
   "cell_type": "code",
   "execution_count": null,
   "id": "c1e04ff5-26a7-46bb-8556-d7adfcf5c886",
   "metadata": {},
   "outputs": [],
   "source": []
  }
 ],
 "metadata": {
  "kernelspec": {
   "display_name": "Python 3 (ipykernel)",
   "language": "python",
   "name": "python3"
  },
  "language_info": {
   "codemirror_mode": {
    "name": "ipython",
    "version": 3
   },
   "file_extension": ".py",
   "mimetype": "text/x-python",
   "name": "python",
   "nbconvert_exporter": "python",
   "pygments_lexer": "ipython3",
   "version": "3.10.6"
  }
 },
 "nbformat": 4,
 "nbformat_minor": 5
}
